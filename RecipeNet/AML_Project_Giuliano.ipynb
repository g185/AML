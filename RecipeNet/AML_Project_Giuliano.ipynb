{
  "nbformat": 4,
  "nbformat_minor": 0,
  "metadata": {
    "colab": {
      "name": "AML_Project.ipynb",
      "provenance": [],
      "collapsed_sections": [],
      "machine_shape": "hm",
      "include_colab_link": true
    },
    "kernelspec": {
      "name": "python3",
      "display_name": "Python 3"
    }
  },
  "cells": [
    {
      "cell_type": "markdown",
      "metadata": {
        "id": "view-in-github",
        "colab_type": "text"
      },
      "source": [
        "<a href=\"https://colab.research.google.com/github/g185/AMLrepository/blob/master/RecipeNet/AML_Project_Giuliano.ipynb\" target=\"_parent\"><img src=\"https://colab.research.google.com/assets/colab-badge.svg\" alt=\"Open In Colab\"/></a>"
      ]
    },
    {
      "cell_type": "markdown",
      "metadata": {
        "id": "UXG6e2PquoqN"
      },
      "source": [
        "#***Download and unzip Dataset***\n"
      ]
    },
    {
      "cell_type": "markdown",
      "metadata": {
        "id": "XhlPBhD98p94"
      },
      "source": [
        "\n",
        "*   Create folders\n",
        "*   Download Recipe 5K + Annotations in drive\n",
        "*   Unzip files in folder\n",
        "\n"
      ]
    },
    {
      "cell_type": "code",
      "metadata": {
        "id": "KUrWflPRudbx"
      },
      "source": [
        "import sys\n",
        "import time\n",
        "import os\n",
        "\n",
        "from google.colab import drive\n",
        "\n",
        "drive.mount('/content/drive')\n",
        "\n",
        "#Populate datasets\n",
        "\n",
        "\n",
        "#Create folders for models and datasets\n",
        "!mkdir \"/content/drive/My Drive/RecipeNet\" \n",
        "!mkdir \"/content/drive/My Drive/RecipeNet/datasets\" \n",
        "!mkdir \"/content/drive/My Drive/RecipeNet/datasets/download\" \n",
        "!mkdir \"/content/drive/My Drive/RecipeNet/datasets/extracted\" \n",
        "!mkdir \"/content/drive/My Drive/RecipeNet/model\" \n",
        "\n",
        "#Scarica dataset\n",
        "#Trascina i due zip\n",
        "\n",
        "#Unzip\n",
        "!unzip \"/content/drive/My Drive/RecipeNet/datasets/download/Recipes5k.zip\" -d \"/content/drive/My Drive/RecipeNet/datasets/extracted\"\n",
        "\n",
        "dataset_dir = \"/content/drive/My Drive/RecipeNet/datasets/extracted/Recipes5k\" \n",
        "\n"
      ],
      "execution_count": null,
      "outputs": []
    },
    {
      "cell_type": "markdown",
      "metadata": {
        "id": "gaSFgNOCU55j"
      },
      "source": [
        ""
      ]
    },
    {
      "cell_type": "code",
      "metadata": {
        "id": "MOJPDp-bU6rr"
      },
      "source": [
        "import json\n",
        "\n",
        "  \n",
        "# Opening JSON file \n",
        "f = open('/content/drive/My Drive/AML/recipes_with_nutritional_info.json',) \n",
        "  \n",
        "# returns JSON object as  \n",
        "# a dictionary \n",
        "\n",
        "data = json.load(f)\n",
        "idlist = [elem[\"id\"] for elem in data]\n",
        "\n",
        "for filename in os.listdir(\"/content/drive/My Drive/AML_final\"):\n",
        "    if filename.endswith(\"jpg\"): \n",
        "        name = filename.strip(\".jpg\")\n",
        "        if name not in idlist:\n",
        "            os.remove(\"/content/drive/My Drive/AML_final/\" + filename)\n",
        "        else:\n",
        "            print(name)\n",
        "\n"
      ],
      "execution_count": null,
      "outputs": []
    }
  ]
}