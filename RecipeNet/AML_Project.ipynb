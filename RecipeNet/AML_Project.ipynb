{
  "nbformat": 4,
  "nbformat_minor": 0,
  "metadata": {
    "colab": {
      "name": "AML_Project.ipynb",
      "provenance": [],
      "collapsed_sections": [],
      "machine_shape": "hm",
      "include_colab_link": true
    },
    "kernelspec": {
      "name": "python3",
      "display_name": "Python 3"
    }
  },
  "cells": [
    {
      "cell_type": "markdown",
      "metadata": {
        "id": "view-in-github",
        "colab_type": "text"
      },
      "source": [
        "<a href=\"https://colab.research.google.com/github/g185/AMLrepository/blob/main/RecipeNet/AML_Project.ipynb\" target=\"_parent\"><img src=\"https://colab.research.google.com/assets/colab-badge.svg\" alt=\"Open In Colab\"/></a>"
      ]
    },
    {
      "cell_type": "markdown",
      "metadata": {
        "id": "UXG6e2PquoqN"
      },
      "source": [
        "#***Download and unzip Dataset***\n"
      ]
    },
    {
      "cell_type": "markdown",
      "metadata": {
        "id": "XhlPBhD98p94"
      },
      "source": [
        "\n",
        "*   Create folders\n",
        "*   Download Recipe 5K + Annotations in drive\n",
        "*   Unzip files in folder\n",
        "\n"
      ]
    },
    {
      "cell_type": "code",
      "metadata": {
        "id": "KUrWflPRudbx",
        "colab": {
          "base_uri": "https://localhost:8080/"
        },
        "outputId": "2f9c7eb9-8265-4221-9235-b73c6365cbe5"
      },
      "source": [
        "#Create folders for models and datasets\n",
        "!mkdir \"/content/drive/My Drive/RecipeNet\" \n",
        "!mkdir \"/content/drive/My Drive/RecipeNet/datasets\" \n",
        "!mkdir \"/content/drive/My Drive/RecipeNet/datasets/download\" \n",
        "!mkdir \"/content/drive/My Drive/RecipeNet/datasets/extracted\" \n",
        "!mkdir \"/content/drive/My Drive/RecipeNet/model\" \n",
        "\n",
        "#Scarica dataset\n",
        "#Trascina i due zip\n",
        "\n",
        "#Unzip\n",
        "!unzip \"/content/drive/My Drive/RecipeNet/datasets/download/Recipes5k.zip\" -d \"/content/drive/My Drive/RecipeNet/datasets/extracted\"\n",
        "!unzip \"/content/drive/My Drive/RecipeNet/datasets/download/Ingredients101.zip\" -d \"/content/drive/My Drive/RecipeNet/datasets/extracted\"\n",
        "\n",
        "\n"
      ],
      "execution_count": 3,
      "outputs": [
        {
          "output_type": "stream",
          "text": [
            "mkdir: cannot create directory ‘/content/drive/My Drive/RecipeNet’: File exists\n",
            "mkdir: cannot create directory ‘/content/drive/My Drive/RecipeNet/datasets’: File exists\n",
            "mkdir: cannot create directory ‘/content/drive/My Drive/RecipeNet/datasets/download’: File exists\n",
            "mkdir: cannot create directory ‘/content/drive/My Drive/RecipeNet/datasets/extracted’: File exists\n",
            "mkdir: cannot create directory ‘/content/drive/My Drive/RecipeNet/model’: File exists\n",
            "Archive:  /content/drive/My Drive/RecipeNet/datasets/download/Ingredients101.zip\n",
            "   creating: /content/drive/My Drive/RecipeNet/datasets/extracted/Ingredients101/\n",
            "   creating: /content/drive/My Drive/RecipeNet/datasets/extracted/Ingredients101/ingredients_simplification/\n",
            "  inflating: /content/drive/My Drive/RecipeNet/datasets/extracted/Ingredients101/ingredients_simplification/blacklist.txt  \n",
            "  inflating: /content/drive/My Drive/RecipeNet/datasets/extracted/Ingredients101/ingredients_simplification/clean_ingredients.py  \n",
            "  inflating: /content/drive/My Drive/RecipeNet/datasets/extracted/Ingredients101/ingredients_simplification/baseIngredients.txt  \n",
            "  inflating: /content/drive/My Drive/RecipeNet/datasets/extracted/Ingredients101/.DS_Store  \n",
            "   creating: /content/drive/My Drive/RecipeNet/datasets/extracted/__MACOSX/\n",
            "   creating: /content/drive/My Drive/RecipeNet/datasets/extracted/__MACOSX/Ingredients101/\n",
            "  inflating: /content/drive/My Drive/RecipeNet/datasets/extracted/__MACOSX/Ingredients101/._.DS_Store  \n",
            "  inflating: /content/drive/My Drive/RecipeNet/datasets/extracted/Ingredients101/README.md  \n",
            "   creating: /content/drive/My Drive/RecipeNet/datasets/extracted/Ingredients101/Annotations/\n",
            "  inflating: /content/drive/My Drive/RecipeNet/datasets/extracted/Ingredients101/Annotations/classes.txt  \n",
            "  inflating: /content/drive/My Drive/RecipeNet/datasets/extracted/Ingredients101/Annotations/val_split.txt  \n",
            "  inflating: /content/drive/My Drive/RecipeNet/datasets/extracted/Ingredients101/Annotations/recipesData_v2.json  \n",
            "  inflating: /content/drive/My Drive/RecipeNet/datasets/extracted/Ingredients101/Annotations/train.txt  \n",
            "  inflating: /content/drive/My Drive/RecipeNet/datasets/extracted/Ingredients101/Annotations/train_short.txt  \n",
            "  inflating: /content/drive/My Drive/RecipeNet/datasets/extracted/Ingredients101/Annotations/test.json  \n",
            "  inflating: /content/drive/My Drive/RecipeNet/datasets/extracted/Ingredients101/Annotations/train_images.txt  \n",
            "  inflating: /content/drive/My Drive/RecipeNet/datasets/extracted/Ingredients101/Annotations/ingredients_simplified.txt  \n",
            "  inflating: /content/drive/My Drive/RecipeNet/datasets/extracted/Ingredients101/Annotations/test_images.txt  \n",
            "  inflating: /content/drive/My Drive/RecipeNet/datasets/extracted/Ingredients101/Annotations/test_labels.txt  \n",
            "  inflating: /content/drive/My Drive/RecipeNet/datasets/extracted/Ingredients101/Annotations/train.json  \n",
            "  inflating: /content/drive/My Drive/RecipeNet/datasets/extracted/Ingredients101/Annotations/train_labels.txt  \n",
            "  inflating: /content/drive/My Drive/RecipeNet/datasets/extracted/Ingredients101/Annotations/recipesData_v1.json  \n",
            "  inflating: /content/drive/My Drive/RecipeNet/datasets/extracted/Ingredients101/Annotations/test.txt  \n",
            "  inflating: /content/drive/My Drive/RecipeNet/datasets/extracted/Ingredients101/Annotations/val.txt  \n",
            "  inflating: /content/drive/My Drive/RecipeNet/datasets/extracted/Ingredients101/Annotations/val_labels.txt  \n",
            "  inflating: /content/drive/My Drive/RecipeNet/datasets/extracted/Ingredients101/Annotations/val_images.txt  \n",
            "  inflating: /content/drive/My Drive/RecipeNet/datasets/extracted/Ingredients101/Annotations/ingredients.txt  \n",
            "  inflating: /content/drive/My Drive/RecipeNet/datasets/extracted/Ingredients101/Annotations/train_split.txt  \n",
            " extracting: /content/drive/My Drive/RecipeNet/datasets/extracted/Ingredients101/README.txt  \n"
          ],
          "name": "stdout"
        }
      ]
    },
    {
      "cell_type": "markdown",
      "metadata": {
        "id": "YT-TwMVuBLEv"
      },
      "source": [
        "#***Imports and Drive Mount***"
      ]
    },
    {
      "cell_type": "code",
      "metadata": {
        "id": "MOJPDp-bU6rr"
      },
      "source": [
        "#Imports\n",
        "import sys\n",
        "import time\n",
        "import os\n",
        "import json\n",
        "\n",
        "#Drive Mount\n",
        "from google.colab import drive\n",
        "drive.mount('/content/drive')\n"
      ],
      "execution_count": null,
      "outputs": []
    },
    {
      "cell_type": "markdown",
      "metadata": {
        "id": "-_AXoIoMB0om"
      },
      "source": [
        "#***Parameters***\n"
      ]
    },
    {
      "cell_type": "code",
      "metadata": {
        "id": "uYIvhj8aB4NV"
      },
      "source": [
        "params = {}\n",
        "params[\"dataset_dir\"] = \"/content/drive/My Drive/RecipeNet/datasets/extracted/Recipes5k\" "
      ],
      "execution_count": null,
      "outputs": []
    }
  ]
}