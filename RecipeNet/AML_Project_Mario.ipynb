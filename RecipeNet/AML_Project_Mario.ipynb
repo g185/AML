{
  "nbformat": 4,
  "nbformat_minor": 0,
  "metadata": {
    "colab": {
      "name": "AML_Project.ipynb",
      "provenance": [],
      "collapsed_sections": [],
      "machine_shape": "hm",
      "include_colab_link": true
    },
    "kernelspec": {
      "name": "python3",
      "display_name": "Python 3"
    }
  },
  "cells": [
    {
      "cell_type": "markdown",
      "metadata": {
        "id": "view-in-github",
        "colab_type": "text"
      },
      "source": [
        "<a href=\"https://colab.research.google.com/github/g185/AMLrepository/blob/main/RecipeNet/AML_Project_Mario.ipynb\" target=\"_parent\"><img src=\"https://colab.research.google.com/assets/colab-badge.svg\" alt=\"Open In Colab\"/></a>"
      ]
    },
    {
      "cell_type": "markdown",
      "metadata": {
        "id": "UXG6e2PquoqN"
      },
      "source": [
        "#***Download and unzip Dataset***\n"
      ]
    },
    {
      "cell_type": "code",
      "metadata": {
        "id": "KUrWflPRudbx"
      },
      "source": [
        "import sys\n",
        "import time\n",
        "import os\n",
        "\n",
        "from google.colab import drive\n",
        "\n",
        "drive.mount('/content/drive')\n",
        "\n",
        "#Populate datasets\n",
        "\n",
        "\n",
        "#Create folders for models and datasets\n",
        "!mkdir \"/content/drive/My Drive/AML_final\" #qui unta\n",
        "!mkdir \"/content/drive/My Drive/AML_download\" #qui download da rinominare\n",
        "!mkdir \"/content/drive/My Drive/AML_json\" #qui ci va il json\n",
        "\n",
        "#Scarica dataset, metti al posto di ? link al download\n",
        "#!wget  -P \"/content/drive/My Drive/AML_download\" \"?\"\n",
        "\n",
        "#rinomina il dataset sul drive con un nome che metti al posto di ?\n",
        "\n",
        "#Unzip\n",
        "!tar -C \"/content/drive/My Drive/AML_final\" -xvf \"/content/drive/My Drive/AML/raw/val_2\" --strip-components 5 \n",
        "\n"
      ],
      "execution_count": null,
      "outputs": []
    },
    {
      "cell_type": "markdown",
      "metadata": {
        "id": "gaSFgNOCU55j"
      },
      "source": [
        ""
      ]
    },
    {
      "cell_type": "code",
      "metadata": {
        "id": "MOJPDp-bU6rr"
      },
      "source": [
        "import json\n",
        "\n",
        "  \n",
        "# Opening JSON file \n",
        "f = open('/content/drive/My Drive/AML/recipes_with_nutritional_info.json',) \n",
        "  \n",
        "# returns JSON object as  \n",
        "# a dictionary \n",
        "\n",
        "data = json.load(f)\n",
        "idlist = [elem[\"id\"] for elem in data]\n",
        "\n",
        "for filename in os.listdir(\"/content/drive/My Drive/AML_final\"):\n",
        "    if filename.endswith(\"jpg\"): \n",
        "        name = filename.strip(\".jpg\")\n",
        "        if name not in idlist:\n",
        "            os.remove(\"/content/drive/My Drive/AML_final/\" + filename)\n",
        "        else:\n",
        "            print(name)\n",
        "\n"
      ],
      "execution_count": null,
      "outputs": []
    }
  ]
}