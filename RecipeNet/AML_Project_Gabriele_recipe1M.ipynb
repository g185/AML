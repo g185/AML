{
  "nbformat": 4,
  "nbformat_minor": 0,
  "metadata": {
    "colab": {
      "name": "AML_Project_recipe1M.ipynb",
      "provenance": [],
      "collapsed_sections": [
        "UXG6e2PquoqN",
        "DScAGw_P8gwn"
      ],
      "toc_visible": true,
      "machine_shape": "hm",
      "include_colab_link": true
    },
    "kernelspec": {
      "display_name": "Python 3",
      "name": "python3"
    }
  },
  "cells": [
    {
      "cell_type": "markdown",
      "metadata": {
        "id": "view-in-github",
        "colab_type": "text"
      },
      "source": [
        "<a href=\"https://colab.research.google.com/github/g185/AMLrepository/blob/main/RecipeNet/AML_Project_Gabriele_recipe1M.ipynb\" target=\"_parent\"><img src=\"https://colab.research.google.com/assets/colab-badge.svg\" alt=\"Open In Colab\"/></a>"
      ]
    },
    {
      "cell_type": "markdown",
      "metadata": {
        "id": "UXG6e2PquoqN"
      },
      "source": [
        "#***Connect Drive***\n"
      ]
    },
    {
      "cell_type": "code",
      "metadata": {
        "colab": {
          "base_uri": "https://localhost:8080/"
        },
        "id": "KUrWflPRudbx",
        "outputId": "0cc47876-855c-4ec9-d1a9-0d959e65004a"
      },
      "source": [
        "from google.colab import drive\n",
        "\n",
        "drive.mount('/content/drive')\n",
        "\n",
        "#Populate datasets\n",
        "\n",
        "#Create folders for models and datasets\n",
        "#!mkdir \"/content/drive/My Drive/AML_final\" #qui unta\n",
        "#!mkdir \"/content/drive/My Drive/AML_download\" #qui download da rinominare\n",
        "#!mkdir \"/content/drive/My Drive/AML_json\" #qui ci va il json\n",
        "\n",
        "#Scarica dataset, metti al posto di ? link al download\n",
        "#!wget  -P \"/content/drive/My Drive/RecipeNet/download/\" \"https://eur03.safelinks.protection.outlook.com/?url=http%3A%2F%2Fwednesday.csail.mit.edu%2Ftemporal%2Frelease%2Flayer2%2B.json&data=02%7C01%7C%7C7b0492c12bdd43ccfe6c08d80898f060%7C0edca4720b7146e696c70a68c10dcb96%7C0%7C0%7C637268800258308139&sdata=klOJ9qMsCfbbWtMa8KCw%2BdAw9Jq7TE2j717B8DDpVGI%3D&reserved=0\"\n",
        "\n",
        "#rinomina il dataset sul drive con un nome che metti al posto di ?\n",
        "\n",
        "#Unzip\n",
        "#!tar -C \"/content/drive/My Drive/AML_final\" -xvf \"/content/drive/My Drive/AML/raw/val_2\" --strip-components 5 "
      ],
      "execution_count": null,
      "outputs": [
        {
          "output_type": "stream",
          "text": [
            "Mounted at /content/drive\n"
          ],
          "name": "stdout"
        }
      ]
    },
    {
      "cell_type": "markdown",
      "metadata": {
        "id": "MtmO180J73uF"
      },
      "source": [
        "#***Import Libraries and Load Data***\n"
      ]
    },
    {
      "cell_type": "code",
      "metadata": {
        "id": "6Y0iDRReqJAc"
      },
      "source": [
        "import os\r\n",
        "import json\r\n",
        "import string\r\n",
        "import sys\r\n",
        "import time\r\n",
        "from shutil import copyfile"
      ],
      "execution_count": null,
      "outputs": []
    },
    {
      "cell_type": "code",
      "metadata": {
        "id": "rtXLDpJz0-0k"
      },
      "source": [
        "f1 = open('/content/drive/MyDrive/RecipeNet/datasets/extracted/layer1.json',)\r\n",
        "layer1 = json.load(f1)"
      ],
      "execution_count": null,
      "outputs": []
    },
    {
      "cell_type": "code",
      "metadata": {
        "id": "oC28R_tUqQ68"
      },
      "source": [
        "f2 = open('/content/drive/MyDrive/RecipeNet/datasets/extracted/layer2.json',)\r\n",
        "layer2 = json.load(f2)"
      ],
      "execution_count": null,
      "outputs": []
    },
    {
      "cell_type": "code",
      "metadata": {
        "id": "c8izs3-q8oeq"
      },
      "source": [
        "f3 = open('/content/drive/MyDrive/RecipeNet/datasets/extracted/layer3_train.json',)\r\n",
        "layer3_train = json.load(f3)"
      ],
      "execution_count": null,
      "outputs": []
    },
    {
      "cell_type": "code",
      "metadata": {
        "id": "LhuB3xCQ9Zu8"
      },
      "source": [
        "f4 = open('/content/drive/MyDrive/RecipeNet/datasets/extracted/layer1_final.json',)\r\n",
        "layer1_final = json.load(f4)"
      ],
      "execution_count": null,
      "outputs": []
    },
    {
      "cell_type": "markdown",
      "metadata": {
        "id": "DScAGw_P8gwn"
      },
      "source": [
        "#***Classes and Preprocess***\n"
      ]
    },
    {
      "cell_type": "code",
      "metadata": {
        "colab": {
          "base_uri": "https://localhost:8080/"
        },
        "id": "uvTa9i0puQhX",
        "outputId": "daeecf1c-bc01-4282-9a58-d00f1dcb4b18"
      },
      "source": [
        "classes = [elem[\"title\"] for elem in layer1 if elem[\"partition\"] == \"val\"]\r\n",
        "classes = sorted(classes, key=str.lower)\r\n",
        "print(classes[:10], len(classes))\r\n",
        "classes = list(set(classes))\r\n",
        "print(classes[:10], len(classes))\r\n",
        "\r\n",
        "preprocessed = []\r\n",
        "for tok in classes:\r\n",
        "    if len(set(string.punctuation).intersection(tok)) == 0 and len(tok.split(\" \")) < 3:\r\n",
        "        preprocessed.append(tok)\r\n",
        "print(preprocessed[:10], len(preprocessed))\r\n",
        "\r\n",
        "classes = [elem[\"ingredients\"] for elem in layer1 if (elem[\"partition\"] == \"val\" and elem[\"title\"] in preprocessed)]\r\n",
        "flattened = [val[\"text\"] for sublist in classes for val in sublist]\r\n",
        "\r\n",
        "print(flattened[:10], len(set(flattened)))"
      ],
      "execution_count": null,
      "outputs": [
        {
          "output_type": "stream",
          "text": [
            "['! Arriba ! Baked Winter Squash Mexican-Style', '!May-lotes!', '\" Almost \" Dairy Queen Blizzard Ice Cream Cake', '\" Almost Grilled\" Cheese Sandwich', '\" Anything Goes\" Low-Fat Mushroom Sauce', '\" Bake-In\" Oozy Bread', '\" Baked Chimichurri Chicken \"', '\" Barber\\'s\" Baked Apples', '\" Berry French Toast\" Oatmeal', '\" Better Than a Baked Potato\" Soup'] 155036\n",
            "['Classic Indian Chicken Curry', 'Fresh Mango, Coconut and Lime Ice Cream', 'English Pea Puree', \"Linda's Shepherd's Pie\", 'Basic White Bread For Zojirushi Recipe', 'Banana Coconut Cookie Bars', 'Crumb Cake with Pear Preserves', 'Curry Spiced Winter Squash', 'Santa Maria-Style BBQ Tri-Tip', 'Methi Aloo Bhaji'] 140649\n",
            "['Garlicky Cauliflower', 'Shakshuka recipe', 'Butter fingers', 'Chimichurri', 'Vanilla Granola', 'Avgolemono', 'Taco Filling', 'Chipotle Rice', 'Fairy Food', 'Grilled Squash'] 15957\n",
            "['2 cups vanilla soy milk, divided', '1 cup frozen blueberries', '1 cup rolled oats', '1/2 cup sweetened flaked coconut', '1/2 cup chopped pecans', '1 cup vanilla yogurt', '1 egg white, room temperature', '18 teaspoon salt', '1 cup packed brown sugar', '1 tablespoon all-purpose flour'] 101188\n"
          ],
          "name": "stdout"
        }
      ]
    },
    {
      "cell_type": "code",
      "metadata": {
        "colab": {
          "base_uri": "https://localhost:8080/"
        },
        "id": "J8e_OVFhuQj2",
        "outputId": "7d911b89-0f97-4672-dc73-2d7fb6ca0551"
      },
      "source": [
        "sort = dict(sorted(layer3_train.items(), key=lambda item: item[1], reverse = True))\r\n",
        "sort = {key:val for key, val in sort.items() if val > 37 }\r\n",
        "all_images = sum([val for key, val in sort.items()])\r\n",
        "print(\"classes\", len(sort), \"images\", all_images)"
      ],
      "execution_count": null,
      "outputs": [
        {
          "output_type": "stream",
          "text": [
            "classes 1029 images 99999\n"
          ],
          "name": "stdout"
        }
      ]
    },
    {
      "cell_type": "markdown",
      "metadata": {
        "id": "y_oosGLI88cv"
      },
      "source": [
        "#***Layer1_final and List of Images***\n"
      ]
    },
    {
      "cell_type": "code",
      "metadata": {
        "colab": {
          "base_uri": "https://localhost:8080/"
        },
        "id": "obPNV3aaqvmA",
        "outputId": "9a493c5c-0567-41b9-f943-396b989099a1"
      },
      "source": [
        "layer1_final = [elem for elem in layer1 if (elem['id'] in sort.keys())]\r\n",
        "\r\n",
        "len(layer1_final)"
      ],
      "execution_count": null,
      "outputs": [
        {
          "output_type": "execute_result",
          "data": {
            "text/plain": [
              "1029"
            ]
          },
          "metadata": {
            "tags": []
          },
          "execution_count": 5
        }
      ]
    },
    {
      "cell_type": "code",
      "metadata": {
        "id": "IAuz6nOe1a0A"
      },
      "source": [
        "# Exporting layer1_final\r\n",
        "'''\r\n",
        "with open('layer1_final.json', 'w') as outfile:\r\n",
        "    json.dump(layer1_final, outfile)\r\n",
        "'''"
      ],
      "execution_count": null,
      "outputs": []
    },
    {
      "cell_type": "code",
      "metadata": {
        "colab": {
          "base_uri": "https://localhost:8080/"
        },
        "id": "uoS1CNkz4Qxc",
        "outputId": "11129555-7010-4064-a533-f88c3d42bc17"
      },
      "source": [
        "layer1_final[0]"
      ],
      "execution_count": null,
      "outputs": [
        {
          "output_type": "execute_result",
          "data": {
            "text/plain": [
              "{'id': '00c6b65f80',\n",
              " 'ingredients': [{'text': '1 cup butter, softened'},\n",
              "  {'text': '1 1/2 cups white sugar'},\n",
              "  {'text': '2 eggs'},\n",
              "  {'text': '2 teaspoons vanilla extract'},\n",
              "  {'text': '2 cups all-purpose flour'},\n",
              "  {'text': '2/3 cup cocoa powder'},\n",
              "  {'text': '3/4 teaspoon baking soda'},\n",
              "  {'text': '1/4 teaspoon salt'},\n",
              "  {'text': '2 cups semisweet chocolate chips'},\n",
              "  {'text': '1/2 cup chopped walnuts (optional)'}],\n",
              " 'title': 'Chocolate Chocolate Chip Cookies I'}"
            ]
          },
          "metadata": {
            "tags": []
          },
          "execution_count": 7
        }
      ]
    },
    {
      "cell_type": "code",
      "metadata": {
        "id": "m5Pj6CwFkU3K"
      },
      "source": [
        "# Adding Images to layer1_final\r\n",
        "\r\n",
        "'''\r\n",
        "for elem in layer1_final:\r\n",
        "  for elem2 in layer2:\r\n",
        "    if elem['id'] == elem2['id']:\r\n",
        "      elem['images'] = elem2['images']\r\n",
        "'''"
      ],
      "execution_count": null,
      "outputs": []
    },
    {
      "cell_type": "code",
      "metadata": {
        "id": "FsDvIvP_9xTD"
      },
      "source": [
        "# Getting All Images\r\n",
        "\r\n",
        "'''\r\n",
        "right_images = []\r\n",
        "\r\n",
        "for elem in layer1_final:\r\n",
        "  for img in elem['images']:\r\n",
        "    right_images.append(img['id'])\r\n",
        "'''"
      ],
      "execution_count": null,
      "outputs": []
    },
    {
      "cell_type": "code",
      "metadata": {
        "id": "dSwBvD7a6uwc"
      },
      "source": [
        "# Export list images\r\n",
        "'''\r\n",
        "with open('right_images.txt', 'w') as f:\r\n",
        "    f.write(json.dumps(right_images))\r\n",
        "'''\r\n",
        "\r\n",
        "#Read list images from txt\r\n",
        "\r\n",
        "with open('right_images.txt', 'r') as f:\r\n",
        "    right_images = json.loads(f.read())"
      ],
      "execution_count": 81,
      "outputs": []
    },
    {
      "cell_type": "code",
      "metadata": {
        "id": "7j6H0MCq6u0m"
      },
      "source": [
        ""
      ],
      "execution_count": null,
      "outputs": []
    },
    {
      "cell_type": "code",
      "metadata": {
        "id": "WGJhjPjG6u27"
      },
      "source": [
        ""
      ],
      "execution_count": null,
      "outputs": []
    },
    {
      "cell_type": "code",
      "metadata": {
        "id": "KMhvgU4-6u5N"
      },
      "source": [
        ""
      ],
      "execution_count": null,
      "outputs": []
    }
  ]
}