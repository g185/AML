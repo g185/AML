{
  "nbformat": 4,
  "nbformat_minor": 0,
  "metadata": {
    "colab": {
      "name": "AML_Project_recipe1M.ipynb",
      "provenance": [],
      "collapsed_sections": [
        "UXG6e2PquoqN",
        "MtmO180J73uF",
        "DScAGw_P8gwn",
        "y_oosGLI88cv",
        "LqKqoxCNQk5s"
      ],
      "toc_visible": true,
      "machine_shape": "hm",
      "include_colab_link": true
    },
    "kernelspec": {
      "display_name": "Python 3",
      "name": "python3"
    }
  },
  "cells": [
    {
      "cell_type": "markdown",
      "metadata": {
        "id": "view-in-github",
        "colab_type": "text"
      },
      "source": [
        "<a href=\"https://colab.research.google.com/github/g185/AMLrepository/blob/main/RecipeNet/AML_Project_Gabriele_recipe1M.ipynb\" target=\"_parent\"><img src=\"https://colab.research.google.com/assets/colab-badge.svg\" alt=\"Open In Colab\"/></a>"
      ]
    },
    {
      "cell_type": "markdown",
      "metadata": {
        "id": "UXG6e2PquoqN"
      },
      "source": [
        "#***Connect Drive***\n"
      ]
    },
    {
      "cell_type": "code",
      "metadata": {
        "colab": {
          "base_uri": "https://localhost:8080/"
        },
        "id": "KUrWflPRudbx",
        "outputId": "bba0e5e7-6be0-481a-b7c2-82ece608717d"
      },
      "source": [
        "from google.colab import drive\n",
        "\n",
        "drive.mount('/content/drive')\n",
        "\n",
        "#Populate datasets\n",
        "\n",
        "#Create folders for models and datasets\n",
        "#!mkdir \"/content/drive/My Drive/AML_final\" #qui unta\n",
        "#!mkdir \"/content/drive/My Drive/AML_download\" #qui download da rinominare\n",
        "#!mkdir \"/content/drive/My Drive/AML_json\" #qui ci va il json\n",
        "\n",
        "#Scarica dataset, metti al posto di ? link al download\n",
        "#!wget  -P \"/content/drive/My Drive/RecipeNet/download/\" \"https://eur03.safelinks.protection.outlook.com/?url=http%3A%2F%2Fwednesday.csail.mit.edu%2Ftemporal%2Frelease%2Flayer2%2B.json&data=02%7C01%7C%7C7b0492c12bdd43ccfe6c08d80898f060%7C0edca4720b7146e696c70a68c10dcb96%7C0%7C0%7C637268800258308139&sdata=klOJ9qMsCfbbWtMa8KCw%2BdAw9Jq7TE2j717B8DDpVGI%3D&reserved=0\"\n",
        "\n",
        "#rinomina il dataset sul drive con un nome che metti al posto di ?\n",
        "\n",
        "#Unzip\n",
        "#!tar -C \"/content/drive/My Drive/AML_final\" -xvf \"/content/drive/My Drive/AML/raw/val_2\" --strip-components 5 "
      ],
      "execution_count": null,
      "outputs": [
        {
          "output_type": "stream",
          "text": [
            "Mounted at /content/drive\n"
          ],
          "name": "stdout"
        }
      ]
    },
    {
      "cell_type": "markdown",
      "metadata": {
        "id": "MtmO180J73uF"
      },
      "source": [
        "#***Import Libraries and Load Data***\n"
      ]
    },
    {
      "cell_type": "code",
      "metadata": {
        "id": "6Y0iDRReqJAc"
      },
      "source": [
        "import os\r\n",
        "import json\r\n",
        "import string\r\n",
        "import sys\r\n",
        "import time\r\n",
        "from shutil import copyfile"
      ],
      "execution_count": null,
      "outputs": []
    },
    {
      "cell_type": "code",
      "metadata": {
        "id": "rtXLDpJz0-0k"
      },
      "source": [
        "f1 = open('/content/drive/MyDrive/RecipeNet/datasets/extracted/layer1.json',)\r\n",
        "layer1 = json.load(f1)"
      ],
      "execution_count": null,
      "outputs": []
    },
    {
      "cell_type": "code",
      "metadata": {
        "id": "oC28R_tUqQ68"
      },
      "source": [
        "f2 = open('/content/drive/MyDrive/RecipeNet/datasets/extracted/layer2.json',)\r\n",
        "layer2 = json.load(f2)"
      ],
      "execution_count": null,
      "outputs": []
    },
    {
      "cell_type": "code",
      "metadata": {
        "id": "c8izs3-q8oeq"
      },
      "source": [
        "f3 = open('/content/drive/MyDrive/RecipeNet/datasets/extracted/layer3_train.json',)\r\n",
        "layer3_train = json.load(f3)"
      ],
      "execution_count": null,
      "outputs": []
    },
    {
      "cell_type": "code",
      "metadata": {
        "id": "LhuB3xCQ9Zu8"
      },
      "source": [
        "f4 = open('/content/drive/MyDrive/RecipeNet/datasets/extracted/layer1_final.json',)\r\n",
        "layer1_final = json.load(f4)"
      ],
      "execution_count": null,
      "outputs": []
    },
    {
      "cell_type": "code",
      "metadata": {
        "id": "vXRUhW2sCEn2"
      },
      "source": [
        "f5 = open('/content/drive/MyDrive/RecipeNet/datasets/extracted/layer1_final_img.json',)\r\n",
        "layer1_final_img = json.load(f5)"
      ],
      "execution_count": null,
      "outputs": []
    },
    {
      "cell_type": "code",
      "metadata": {
        "id": "P3lN-ItOCdQd"
      },
      "source": [
        "#Read list images from txt\r\n",
        "\r\n",
        "with open('/content/drive/MyDrive/RecipeNet/datasets/extracted/right_images.txt', 'r') as f:\r\n",
        "    right_images = json.loads(f.read())"
      ],
      "execution_count": null,
      "outputs": []
    },
    {
      "cell_type": "markdown",
      "metadata": {
        "id": "DScAGw_P8gwn"
      },
      "source": [
        "#***Classes and Preprocess***\n"
      ]
    },
    {
      "cell_type": "code",
      "metadata": {
        "colab": {
          "base_uri": "https://localhost:8080/"
        },
        "id": "uvTa9i0puQhX",
        "outputId": "daeecf1c-bc01-4282-9a58-d00f1dcb4b18"
      },
      "source": [
        "classes = [elem[\"title\"] for elem in layer1 if elem[\"partition\"] == \"val\"]\r\n",
        "classes = sorted(classes, key=str.lower)\r\n",
        "print(classes[:10], len(classes))\r\n",
        "classes = list(set(classes))\r\n",
        "print(classes[:10], len(classes))\r\n",
        "\r\n",
        "preprocessed = []\r\n",
        "for tok in classes:\r\n",
        "    if len(set(string.punctuation).intersection(tok)) == 0 and len(tok.split(\" \")) < 3:\r\n",
        "        preprocessed.append(tok)\r\n",
        "print(preprocessed[:10], len(preprocessed))\r\n",
        "\r\n",
        "classes = [elem[\"ingredients\"] for elem in layer1 if (elem[\"partition\"] == \"val\" and elem[\"title\"] in preprocessed)]\r\n",
        "flattened = [val[\"text\"] for sublist in classes for val in sublist]\r\n",
        "\r\n",
        "print(flattened[:10], len(set(flattened)))"
      ],
      "execution_count": null,
      "outputs": [
        {
          "output_type": "stream",
          "text": [
            "['! Arriba ! Baked Winter Squash Mexican-Style', '!May-lotes!', '\" Almost \" Dairy Queen Blizzard Ice Cream Cake', '\" Almost Grilled\" Cheese Sandwich', '\" Anything Goes\" Low-Fat Mushroom Sauce', '\" Bake-In\" Oozy Bread', '\" Baked Chimichurri Chicken \"', '\" Barber\\'s\" Baked Apples', '\" Berry French Toast\" Oatmeal', '\" Better Than a Baked Potato\" Soup'] 155036\n",
            "['Classic Indian Chicken Curry', 'Fresh Mango, Coconut and Lime Ice Cream', 'English Pea Puree', \"Linda's Shepherd's Pie\", 'Basic White Bread For Zojirushi Recipe', 'Banana Coconut Cookie Bars', 'Crumb Cake with Pear Preserves', 'Curry Spiced Winter Squash', 'Santa Maria-Style BBQ Tri-Tip', 'Methi Aloo Bhaji'] 140649\n",
            "['Garlicky Cauliflower', 'Shakshuka recipe', 'Butter fingers', 'Chimichurri', 'Vanilla Granola', 'Avgolemono', 'Taco Filling', 'Chipotle Rice', 'Fairy Food', 'Grilled Squash'] 15957\n",
            "['2 cups vanilla soy milk, divided', '1 cup frozen blueberries', '1 cup rolled oats', '1/2 cup sweetened flaked coconut', '1/2 cup chopped pecans', '1 cup vanilla yogurt', '1 egg white, room temperature', '18 teaspoon salt', '1 cup packed brown sugar', '1 tablespoon all-purpose flour'] 101188\n"
          ],
          "name": "stdout"
        }
      ]
    },
    {
      "cell_type": "code",
      "metadata": {
        "colab": {
          "base_uri": "https://localhost:8080/"
        },
        "id": "J8e_OVFhuQj2",
        "outputId": "7d911b89-0f97-4672-dc73-2d7fb6ca0551"
      },
      "source": [
        "sort = dict(sorted(layer3_train.items(), key=lambda item: item[1], reverse = True))\r\n",
        "sort = {key:val for key, val in sort.items() if val > 37 }\r\n",
        "all_images = sum([val for key, val in sort.items()])\r\n",
        "print(\"classes\", len(sort), \"images\", all_images)"
      ],
      "execution_count": null,
      "outputs": [
        {
          "output_type": "stream",
          "text": [
            "classes 1029 images 99999\n"
          ],
          "name": "stdout"
        }
      ]
    },
    {
      "cell_type": "markdown",
      "metadata": {
        "id": "y_oosGLI88cv"
      },
      "source": [
        "#***Layer1_final and List of Images***\n"
      ]
    },
    {
      "cell_type": "code",
      "metadata": {
        "id": "obPNV3aaqvmA"
      },
      "source": [
        "'''\r\n",
        "layer1_final = [elem for elem in layer1 if (elem['id'] in sort.keys())]\r\n",
        "'''"
      ],
      "execution_count": null,
      "outputs": []
    },
    {
      "cell_type": "code",
      "metadata": {
        "colab": {
          "base_uri": "https://localhost:8080/"
        },
        "id": "vSjEye0jA3Rm",
        "outputId": "9ef9b13d-d2cb-4a91-98a4-cf20dcfc3194"
      },
      "source": [
        "len(layer1_final)"
      ],
      "execution_count": null,
      "outputs": [
        {
          "output_type": "execute_result",
          "data": {
            "text/plain": [
              "1029"
            ]
          },
          "metadata": {
            "tags": []
          },
          "execution_count": 11
        }
      ]
    },
    {
      "cell_type": "code",
      "metadata": {
        "id": "IAuz6nOe1a0A"
      },
      "source": [
        "# Exporting layer1_final\r\n",
        "'''\r\n",
        "with open('layer1_final.json', 'w') as outfile:\r\n",
        "    json.dump(layer1_final, outfile)\r\n",
        "'''"
      ],
      "execution_count": null,
      "outputs": []
    },
    {
      "cell_type": "code",
      "metadata": {
        "colab": {
          "base_uri": "https://localhost:8080/"
        },
        "id": "uoS1CNkz4Qxc",
        "outputId": "fa192de9-c868-471a-9ed0-5990cd92defa"
      },
      "source": [
        "layer1_final[0]"
      ],
      "execution_count": null,
      "outputs": [
        {
          "output_type": "execute_result",
          "data": {
            "text/plain": [
              "{'id': '00c6b65f80',\n",
              " 'ingredients': [{'text': '1 cup butter, softened'},\n",
              "  {'text': '1 1/2 cups white sugar'},\n",
              "  {'text': '2 eggs'},\n",
              "  {'text': '2 teaspoons vanilla extract'},\n",
              "  {'text': '2 cups all-purpose flour'},\n",
              "  {'text': '2/3 cup cocoa powder'},\n",
              "  {'text': '3/4 teaspoon baking soda'},\n",
              "  {'text': '1/4 teaspoon salt'},\n",
              "  {'text': '2 cups semisweet chocolate chips'},\n",
              "  {'text': '1/2 cup chopped walnuts (optional)'}],\n",
              " 'title': 'Chocolate Chocolate Chip Cookies I'}"
            ]
          },
          "metadata": {
            "tags": []
          },
          "execution_count": 13
        }
      ]
    },
    {
      "cell_type": "code",
      "metadata": {
        "id": "m5Pj6CwFkU3K"
      },
      "source": [
        "# Adding Images to layer1_final\r\n",
        "\r\n",
        "'''\r\n",
        "for elem in layer1_final:\r\n",
        "  for elem2 in layer2:\r\n",
        "    if elem['id'] == elem2['id']:\r\n",
        "      elem['images'] = elem2['images']\r\n",
        "'''"
      ],
      "execution_count": null,
      "outputs": []
    },
    {
      "cell_type": "code",
      "metadata": {
        "colab": {
          "base_uri": "https://localhost:8080/"
        },
        "id": "giX2Z6IXCQmI",
        "outputId": "53d8d5fd-ac04-4b42-e4ea-53390e48ed16"
      },
      "source": [
        "layer1_final_img[0]"
      ],
      "execution_count": null,
      "outputs": [
        {
          "output_type": "execute_result",
          "data": {
            "text/plain": [
              "{'id': '00c6b65f80',\n",
              " 'images': [{'id': '026511c01f.jpg',\n",
              "   'url': 'http://images.media-allrecipes.com/userphotos/256x256/19720.jpg'},\n",
              "  {'id': '04e4537782.jpg',\n",
              "   'url': 'http://images.media-allrecipes.com/userphotos/256x256/15658.jpg'},\n",
              "  {'id': '055d7f5285.jpg',\n",
              "   'url': 'http://images.media-allrecipes.com/userphotos/256x256/166372.jpg'},\n",
              "  {'id': '05c5028684.jpg',\n",
              "   'url': 'http://images.media-allrecipes.com/userphotos/256x256/596772.jpg'},\n",
              "  {'id': '062f987fee.jpg',\n",
              "   'url': 'http://images.media-allrecipes.com/userphotos/256x256/2483816.jpg'},\n",
              "  {'id': '063be8db95.jpg',\n",
              "   'url': 'http://images.media-allrecipes.com/userphotos/256x256/1870725.jpg'},\n",
              "  {'id': '06f6ecb7ca.jpg',\n",
              "   'url': 'http://images.media-allrecipes.com/userphotos/256x256/763626.jpg'},\n",
              "  {'id': '07b00bbcc1.jpg',\n",
              "   'url': 'http://images.media-allrecipes.com/userphotos/256x256/1127913.jpg'},\n",
              "  {'id': '08613a31a4.jpg',\n",
              "   'url': 'http://images.media-allrecipes.com/userphotos/256x256/1077583.jpg'},\n",
              "  {'id': '0932f0ac0e.jpg',\n",
              "   'url': 'http://images.media-allrecipes.com/userphotos/256x256/1976139.jpg'},\n",
              "  {'id': '0a545fa298.jpg',\n",
              "   'url': 'http://images.media-allrecipes.com/userphotos/256x256/130176.jpg'},\n",
              "  {'id': '0a66ac329a.jpg',\n",
              "   'url': 'http://images.media-allrecipes.com/userphotos/256x256/31286.jpg'},\n",
              "  {'id': '0ab95c7853.jpg',\n",
              "   'url': 'http://images.media-allrecipes.com/userphotos/256x256/1661243.jpg'},\n",
              "  {'id': '0edc96d4e5.jpg',\n",
              "   'url': 'http://images.media-allrecipes.com/userphotos/256x256/772576.jpg'},\n",
              "  {'id': '0fdd440499.jpg',\n",
              "   'url': 'http://images.media-allrecipes.com/userphotos/256x256/178952.jpg'},\n",
              "  {'id': '105e543680.jpg',\n",
              "   'url': 'http://images.media-allrecipes.com/userphotos/256x256/480783.jpg'},\n",
              "  {'id': '11b9b765bf.jpg',\n",
              "   'url': 'http://images.media-allrecipes.com/userphotos/256x256/182567.jpg'},\n",
              "  {'id': '130749f722.jpg',\n",
              "   'url': 'http://images.media-allrecipes.com/userphotos/256x256/545428.jpg'},\n",
              "  {'id': '1372c07bf6.jpg',\n",
              "   'url': 'http://images.media-allrecipes.com/userphotos/256x256/770733.jpg'},\n",
              "  {'id': '13b44b0928.jpg',\n",
              "   'url': 'http://images.media-allrecipes.com/userphotos/256x256/324552.jpg'},\n",
              "  {'id': '153fe5ad75.jpg',\n",
              "   'url': 'http://images.media-allrecipes.com/userphotos/256x256/57952.jpg'},\n",
              "  {'id': '16d2d5b4a2.jpg',\n",
              "   'url': 'http://images.media-allrecipes.com/userphotos/256x256/129753.jpg'},\n",
              "  {'id': '1950bf9607.jpg',\n",
              "   'url': 'http://images.media-allrecipes.com/userphotos/256x256/182565.jpg'},\n",
              "  {'id': '19befcc3ac.jpg',\n",
              "   'url': 'http://images.media-allrecipes.com/userphotos/256x256/1682168.jpg'},\n",
              "  {'id': '1b4700c61d.jpg',\n",
              "   'url': 'http://images.media-allrecipes.com/userphotos/256x256/178363.jpg'},\n",
              "  {'id': '1c276184f1.jpg',\n",
              "   'url': 'http://images.media-allrecipes.com/userphotos/256x256/2346589.jpg'},\n",
              "  {'id': '1d7d25dd23.jpg',\n",
              "   'url': 'http://images.media-allrecipes.com/userphotos/256x256/322675.jpg'},\n",
              "  {'id': '1f9a0334da.jpg',\n",
              "   'url': 'http://images.media-allrecipes.com/userphotos/256x256/5590.jpg'},\n",
              "  {'id': '1fa1157ea6.jpg',\n",
              "   'url': 'http://images.media-allrecipes.com/userphotos/256x256/623638.jpg'},\n",
              "  {'id': '2064fcd0b4.jpg',\n",
              "   'url': 'http://images.media-allrecipes.com/userphotos/256x256/2260156.jpg'},\n",
              "  {'id': '20a25905d4.jpg',\n",
              "   'url': 'http://images.media-allrecipes.com/userphotos/256x256/790528.jpg'},\n",
              "  {'id': '24b3370b48.jpg',\n",
              "   'url': 'http://images.media-allrecipes.com/userphotos/256x256/1117968.jpg'},\n",
              "  {'id': '258e6f1028.jpg',\n",
              "   'url': 'http://images.media-allrecipes.com/userphotos/256x256/36460.jpg'},\n",
              "  {'id': '2595e479ee.jpg',\n",
              "   'url': 'http://images.media-allrecipes.com/userphotos/256x256/1124546.jpg'},\n",
              "  {'id': '26088a7834.jpg',\n",
              "   'url': 'http://images.media-allrecipes.com/userphotos/256x256/1682885.jpg'},\n",
              "  {'id': '26b7b32b95.jpg',\n",
              "   'url': 'http://images.media-allrecipes.com/userphotos/256x256/136968.jpg'},\n",
              "  {'id': '2797a9e55d.jpg',\n",
              "   'url': 'http://images.media-allrecipes.com/userphotos/256x256/2192678.jpg'},\n",
              "  {'id': '27b4af1598.jpg',\n",
              "   'url': 'http://images.media-allrecipes.com/userphotos/256x256/2228979.jpg'},\n",
              "  {'id': '27e864f0b2.jpg',\n",
              "   'url': 'http://images.media-allrecipes.com/userphotos/256x256/2259819.jpg'},\n",
              "  {'id': '285c680e8b.jpg',\n",
              "   'url': 'http://images.media-allrecipes.com/userphotos/256x256/347344.jpg'},\n",
              "  {'id': '28b4c88074.jpg',\n",
              "   'url': 'http://images.media-allrecipes.com/userphotos/256x256/625918.jpg'},\n",
              "  {'id': '29e99f31b8.jpg',\n",
              "   'url': 'http://images.media-allrecipes.com/userphotos/256x256/62608.jpg'},\n",
              "  {'id': '2bf08f5d39.jpg',\n",
              "   'url': 'http://images.media-allrecipes.com/userphotos/256x256/728046.jpg'},\n",
              "  {'id': '2c46e0b8fc.jpg',\n",
              "   'url': 'http://images.media-allrecipes.com/userphotos/256x256/187113.jpg'},\n",
              "  {'id': '2ccf06ddb4.jpg',\n",
              "   'url': 'http://images.media-allrecipes.com/userphotos/256x256/1773066.jpg'},\n",
              "  {'id': '2f24325dd1.jpg',\n",
              "   'url': 'http://images.media-allrecipes.com/userphotos/256x256/183002.jpg'},\n",
              "  {'id': '2f6b9870e6.jpg',\n",
              "   'url': 'http://images.media-allrecipes.com/userphotos/256x256/1983202.jpg'},\n",
              "  {'id': '2f8c55fc30.jpg',\n",
              "   'url': 'http://images.media-allrecipes.com/userphotos/256x256/707283.jpg'},\n",
              "  {'id': '30475e8822.jpg',\n",
              "   'url': 'http://images.media-allrecipes.com/userphotos/256x256/131730.jpg'},\n",
              "  {'id': '3086db81e6.jpg',\n",
              "   'url': 'http://images.media-allrecipes.com/userphotos/256x256/780270.jpg'},\n",
              "  {'id': '30a4aedd7f.jpg',\n",
              "   'url': 'http://images.media-allrecipes.com/userphotos/256x256/1256890.jpg'},\n",
              "  {'id': '3230b2c246.jpg',\n",
              "   'url': 'http://images.media-allrecipes.com/userphotos/256x256/97205.jpg'},\n",
              "  {'id': '35b5fc5c52.jpg',\n",
              "   'url': 'http://images.media-allrecipes.com/userphotos/256x256/159508.jpg'},\n",
              "  {'id': '377996fa4e.jpg',\n",
              "   'url': 'http://images.media-allrecipes.com/userphotos/256x256/102975.jpg'},\n",
              "  {'id': '388d30fd19.jpg',\n",
              "   'url': 'http://images.media-allrecipes.com/userphotos/256x256/109645.jpg'},\n",
              "  {'id': '3af6d7bd9f.jpg',\n",
              "   'url': 'http://images.media-allrecipes.com/userphotos/256x256/206485.jpg'},\n",
              "  {'id': '3b3ede0e8b.jpg',\n",
              "   'url': 'http://images.media-allrecipes.com/userphotos/256x256/2576726.jpg'},\n",
              "  {'id': '3d11dccb2b.jpg',\n",
              "   'url': 'http://images.media-allrecipes.com/userphotos/256x256/273673.jpg'},\n",
              "  {'id': '3f4bc40d10.jpg',\n",
              "   'url': 'http://images.media-allrecipes.com/userphotos/256x256/2219972.jpg'},\n",
              "  {'id': '3fcea1e1db.jpg',\n",
              "   'url': 'http://images.media-allrecipes.com/userphotos/256x256/1698256.jpg'},\n",
              "  {'id': '4082129b33.jpg',\n",
              "   'url': 'http://images.media-allrecipes.com/userphotos/256x256/346551.jpg'},\n",
              "  {'id': '40903ae467.jpg',\n",
              "   'url': 'http://images.media-allrecipes.com/userphotos/256x256/2150977.jpg'},\n",
              "  {'id': '40ca4a0354.jpg',\n",
              "   'url': 'http://images.media-allrecipes.com/userphotos/256x256/2240836.jpg'},\n",
              "  {'id': '415cf60fe6.jpg',\n",
              "   'url': 'http://images.media-allrecipes.com/userphotos/256x256/78520.jpg'},\n",
              "  {'id': '434be53502.jpg',\n",
              "   'url': 'http://images.media-allrecipes.com/userphotos/256x256/75701.jpg'},\n",
              "  {'id': '43ec6a6f93.jpg',\n",
              "   'url': 'http://images.media-allrecipes.com/userphotos/256x256/951641.jpg'},\n",
              "  {'id': '442f8413f2.jpg',\n",
              "   'url': 'http://images.media-allrecipes.com/userphotos/256x256/1067680.jpg'},\n",
              "  {'id': '45233e5b8e.jpg',\n",
              "   'url': 'http://images.media-allrecipes.com/userphotos/256x256/2121980.jpg'},\n",
              "  {'id': '45cd1bddcb.jpg',\n",
              "   'url': 'http://images.media-allrecipes.com/userphotos/256x256/47643.jpg'},\n",
              "  {'id': '4649e15a26.jpg',\n",
              "   'url': 'http://images.media-allrecipes.com/userphotos/256x256/757741.jpg'},\n",
              "  {'id': '47df3e2127.jpg',\n",
              "   'url': 'http://images.media-allrecipes.com/userphotos/256x256/465447.jpg'},\n",
              "  {'id': '49f7133ca5.jpg',\n",
              "   'url': 'http://images.media-allrecipes.com/userphotos/256x256/29223.jpg'},\n",
              "  {'id': '4ab141c74f.jpg',\n",
              "   'url': 'http://images.media-allrecipes.com/userphotos/256x256/735793.jpg'},\n",
              "  {'id': '4b8541b8cf.jpg',\n",
              "   'url': 'http://images.media-allrecipes.com/userphotos/256x256/67344.jpg'},\n",
              "  {'id': '4c34a0f2f5.jpg',\n",
              "   'url': 'http://images.media-allrecipes.com/userphotos/256x256/328246.jpg'},\n",
              "  {'id': '4cfac6938e.jpg',\n",
              "   'url': 'http://images.media-allrecipes.com/userphotos/256x256/385839.jpg'},\n",
              "  {'id': '4d7e7fb340.jpg',\n",
              "   'url': 'http://images.media-allrecipes.com/userphotos/256x256/1212378.jpg'},\n",
              "  {'id': '4e7977cdb8.jpg',\n",
              "   'url': 'http://images.media-allrecipes.com/userphotos/256x256/596767.jpg'},\n",
              "  {'id': '4eb1b805fc.jpg',\n",
              "   'url': 'http://images.media-allrecipes.com/userphotos/256x256/464497.jpg'},\n",
              "  {'id': '508273d30d.jpg',\n",
              "   'url': 'http://images.media-allrecipes.com/userphotos/256x256/483849.jpg'},\n",
              "  {'id': '50fdfea1b4.jpg',\n",
              "   'url': 'http://images.media-allrecipes.com/userphotos/256x256/380441.jpg'},\n",
              "  {'id': '532945c27c.jpg',\n",
              "   'url': 'http://images.media-allrecipes.com/userphotos/256x256/14324.jpg'},\n",
              "  {'id': '53681b1db3.jpg',\n",
              "   'url': 'http://images.media-allrecipes.com/userphotos/256x256/2226723.jpg'},\n",
              "  {'id': '540457fe2b.jpg',\n",
              "   'url': 'http://images.media-allrecipes.com/userphotos/256x256/171365.jpg'},\n",
              "  {'id': '56bad7c987.jpg',\n",
              "   'url': 'http://images.media-allrecipes.com/userphotos/256x256/2164807.jpg'},\n",
              "  {'id': '58a0446146.jpg',\n",
              "   'url': 'http://images.media-allrecipes.com/userphotos/256x256/2380348.jpg'},\n",
              "  {'id': '59cccb7a2f.jpg',\n",
              "   'url': 'http://images.media-allrecipes.com/userphotos/256x256/1414744.jpg'},\n",
              "  {'id': '5ad16d43d0.jpg',\n",
              "   'url': 'http://images.media-allrecipes.com/userphotos/256x256/259905.jpg'},\n",
              "  {'id': '5b8cf4bc09.jpg',\n",
              "   'url': 'http://images.media-allrecipes.com/userphotos/256x256/1019373.jpg'},\n",
              "  {'id': '5c966d8349.jpg',\n",
              "   'url': 'http://images.media-allrecipes.com/userphotos/256x256/2251355.jpg'},\n",
              "  {'id': '5cb173202b.jpg',\n",
              "   'url': 'http://images.media-allrecipes.com/userphotos/256x256/51306.jpg'},\n",
              "  {'id': '5cf4fb883a.jpg',\n",
              "   'url': 'http://images.media-allrecipes.com/userphotos/256x256/309236.jpg'},\n",
              "  {'id': '5d6053cc95.jpg',\n",
              "   'url': 'http://images.media-allrecipes.com/userphotos/256x256/872840.jpg'},\n",
              "  {'id': '62cbbeb219.jpg',\n",
              "   'url': 'http://images.media-allrecipes.com/userphotos/256x256/383015.jpg'},\n",
              "  {'id': '6308c6e853.jpg',\n",
              "   'url': 'http://images.media-allrecipes.com/userphotos/256x256/2140448.jpg'},\n",
              "  {'id': '63f1d28dfc.jpg',\n",
              "   'url': 'http://images.media-allrecipes.com/userphotos/256x256/284565.jpg'},\n",
              "  {'id': '65748b082f.jpg',\n",
              "   'url': 'http://images.media-allrecipes.com/userphotos/256x256/1092662.jpg'},\n",
              "  {'id': '657ac75a0e.jpg',\n",
              "   'url': 'http://images.media-allrecipes.com/userphotos/256x256/243108.jpg'},\n",
              "  {'id': '6739504d70.jpg',\n",
              "   'url': 'http://images.media-allrecipes.com/userphotos/256x256/182566.jpg'},\n",
              "  {'id': '69c8a8933e.jpg',\n",
              "   'url': 'http://images.media-allrecipes.com/userphotos/256x256/139841.jpg'},\n",
              "  {'id': '6a3d8d0b26.jpg',\n",
              "   'url': 'http://images.media-allrecipes.com/userphotos/256x256/277296.jpg'},\n",
              "  {'id': '6b4d4c6ca9.jpg',\n",
              "   'url': 'http://images.media-allrecipes.com/userphotos/256x256/24560.jpg'},\n",
              "  {'id': '6c16234b4a.jpg',\n",
              "   'url': 'http://images.media-allrecipes.com/userphotos/256x256/2235909.jpg'},\n",
              "  {'id': '6ce489aaeb.jpg',\n",
              "   'url': 'http://images.media-allrecipes.com/userphotos/256x256/124026.jpg'},\n",
              "  {'id': '6d8bd70ac5.jpg',\n",
              "   'url': 'http://images.media-allrecipes.com/userphotos/256x256/299824.jpg'},\n",
              "  {'id': '6df2e4dfaf.jpg',\n",
              "   'url': 'http://images.media-allrecipes.com/userphotos/256x256/186068.jpg'},\n",
              "  {'id': '6e04183143.jpg',\n",
              "   'url': 'http://images.media-allrecipes.com/userphotos/256x256/189167.jpg'},\n",
              "  {'id': '6fdba86869.jpg',\n",
              "   'url': 'http://images.media-allrecipes.com/userphotos/256x256/1857193.jpg'},\n",
              "  {'id': '6ffdfe7eca.jpg',\n",
              "   'url': 'http://images.media-allrecipes.com/userphotos/256x256/139812.jpg'},\n",
              "  {'id': '70e4460fd2.jpg',\n",
              "   'url': 'http://images.media-allrecipes.com/userphotos/256x256/394288.jpg'},\n",
              "  {'id': '716359af0e.jpg',\n",
              "   'url': 'http://images.media-allrecipes.com/userphotos/256x256/1714148.jpg'},\n",
              "  {'id': '72bee8a7ee.jpg',\n",
              "   'url': 'http://images.media-allrecipes.com/userphotos/256x256/130177.jpg'},\n",
              "  {'id': '72f486dbff.jpg',\n",
              "   'url': 'http://images.media-allrecipes.com/userphotos/256x256/2278662.jpg'},\n",
              "  {'id': '7311ceab9e.jpg',\n",
              "   'url': 'http://images.media-allrecipes.com/userphotos/256x256/1641394.jpg'},\n",
              "  {'id': '748e1758c6.jpg',\n",
              "   'url': 'http://images.media-allrecipes.com/userphotos/256x256/480782.jpg'},\n",
              "  {'id': '756a3063cc.jpg',\n",
              "   'url': 'http://images.media-allrecipes.com/userphotos/256x256/279506.jpg'},\n",
              "  {'id': '76c4daad74.jpg',\n",
              "   'url': 'http://images.media-allrecipes.com/userphotos/256x256/176049.jpg'},\n",
              "  {'id': '770ac2ffbe.jpg',\n",
              "   'url': 'http://images.media-allrecipes.com/userphotos/256x256/1785100.jpg'},\n",
              "  {'id': '77c3309585.jpg',\n",
              "   'url': 'http://images.media-allrecipes.com/userphotos/256x256/2495804.jpg'},\n",
              "  {'id': '79ad998495.jpg',\n",
              "   'url': 'http://images.media-allrecipes.com/userphotos/256x256/1130476.jpg'},\n",
              "  {'id': '7a61ca95a4.jpg',\n",
              "   'url': 'http://images.media-allrecipes.com/userphotos/256x256/1103025.jpg'},\n",
              "  {'id': '7ac3ddce11.jpg',\n",
              "   'url': 'http://images.media-allrecipes.com/userphotos/256x256/938305.jpg'},\n",
              "  {'id': '7b2e0249da.jpg',\n",
              "   'url': 'http://images.media-allrecipes.com/userphotos/256x256/80976.jpg'},\n",
              "  {'id': '7d1c741e4d.jpg',\n",
              "   'url': 'http://images.media-allrecipes.com/userphotos/256x256/707459.jpg'},\n",
              "  {'id': '7dc3a26eef.jpg',\n",
              "   'url': 'http://images.media-allrecipes.com/userphotos/256x256/2154114.jpg'},\n",
              "  {'id': '7dcac9b881.jpg',\n",
              "   'url': 'http://images.media-allrecipes.com/userphotos/256x256/1114432.jpg'},\n",
              "  {'id': '7e2e9135df.jpg',\n",
              "   'url': 'http://images.media-allrecipes.com/userphotos/256x256/426598.jpg'},\n",
              "  {'id': '7e3bdeb5c2.jpg',\n",
              "   'url': 'http://images.media-allrecipes.com/userphotos/256x256/504026.jpg'},\n",
              "  {'id': '7ead6c21e0.jpg',\n",
              "   'url': 'http://images.media-allrecipes.com/userphotos/256x256/149046.jpg'},\n",
              "  {'id': '802789da41.jpg',\n",
              "   'url': 'http://images.media-allrecipes.com/userphotos/256x256/95827.jpg'},\n",
              "  {'id': '80c74aab90.jpg',\n",
              "   'url': 'http://images.media-allrecipes.com/userphotos/256x256/2063851.jpg'},\n",
              "  {'id': '81812d2f9b.jpg',\n",
              "   'url': 'http://images.media-allrecipes.com/userphotos/256x256/794881.jpg'},\n",
              "  {'id': '837aae017e.jpg',\n",
              "   'url': 'http://images.media-allrecipes.com/userphotos/256x256/74146.jpg'},\n",
              "  {'id': '85371d34b3.jpg',\n",
              "   'url': 'http://images.media-allrecipes.com/userphotos/256x256/1969199.jpg'},\n",
              "  {'id': '85649573a8.jpg',\n",
              "   'url': 'http://images.media-allrecipes.com/userphotos/256x256/29450.jpg'},\n",
              "  {'id': '8583d99640.jpg',\n",
              "   'url': 'http://images.media-allrecipes.com/userphotos/256x256/1408295.jpg'},\n",
              "  {'id': '8764fa1a1b.jpg',\n",
              "   'url': 'http://images.media-allrecipes.com/userphotos/256x256/2380349.jpg'},\n",
              "  {'id': '87a1011b3b.jpg',\n",
              "   'url': 'http://images.media-allrecipes.com/userphotos/256x256/182568.jpg'},\n",
              "  {'id': '880d7bf5f4.jpg',\n",
              "   'url': 'http://images.media-allrecipes.com/userphotos/256x256/223822.jpg'},\n",
              "  {'id': '8870ec5152.jpg',\n",
              "   'url': 'http://images.media-allrecipes.com/userphotos/256x256/243418.jpg'},\n",
              "  {'id': '88a2e82f23.jpg',\n",
              "   'url': 'http://images.media-allrecipes.com/userphotos/256x256/47422.jpg'},\n",
              "  {'id': '89231db588.jpg',\n",
              "   'url': 'http://images.media-allrecipes.com/userphotos/256x256/324388.jpg'},\n",
              "  {'id': '8a1d2d4343.jpg',\n",
              "   'url': 'http://images.media-allrecipes.com/userphotos/256x256/1631238.jpg'},\n",
              "  {'id': '8a3468b539.jpg',\n",
              "   'url': 'http://images.media-allrecipes.com/userphotos/256x256/1786691.jpg'},\n",
              "  {'id': '8a8b3c99b9.jpg',\n",
              "   'url': 'http://images.media-allrecipes.com/userphotos/256x256/345504.jpg'},\n",
              "  {'id': '8c0a7e9f17.jpg',\n",
              "   'url': 'http://images.media-allrecipes.com/userphotos/256x256/245197.jpg'},\n",
              "  {'id': '8d7b99203e.jpg',\n",
              "   'url': 'http://images.media-allrecipes.com/userphotos/256x256/26005.jpg'},\n",
              "  {'id': '921f8f63dc.jpg',\n",
              "   'url': 'http://images.media-allrecipes.com/userphotos/256x256/2221544.jpg'},\n",
              "  {'id': '934c4f6f16.jpg',\n",
              "   'url': 'http://images.media-allrecipes.com/userphotos/256x256/1545051.jpg'},\n",
              "  {'id': '93655c5201.jpg',\n",
              "   'url': 'http://images.media-allrecipes.com/userphotos/256x256/713833.jpg'},\n",
              "  {'id': '938131ef6f.jpg',\n",
              "   'url': 'http://images.media-allrecipes.com/userphotos/256x256/481404.jpg'},\n",
              "  {'id': '939c6a4c0d.jpg',\n",
              "   'url': 'http://images.media-allrecipes.com/userphotos/256x256/1110217.jpg'},\n",
              "  {'id': '947ea4411f.jpg',\n",
              "   'url': 'http://images.media-allrecipes.com/userphotos/256x256/1293983.jpg'},\n",
              "  {'id': '966bdd5f33.jpg',\n",
              "   'url': 'http://images.media-allrecipes.com/userphotos/256x256/1077214.jpg'},\n",
              "  {'id': '968bbdf19c.jpg',\n",
              "   'url': 'http://images.media-allrecipes.com/userphotos/256x256/1260240.jpg'},\n",
              "  {'id': '9819e82239.jpg',\n",
              "   'url': 'http://images.media-allrecipes.com/userphotos/256x256/537097.jpg'},\n",
              "  {'id': '9b6b7b57f9.jpg',\n",
              "   'url': 'http://images.media-allrecipes.com/userphotos/256x256/880630.jpg'},\n",
              "  {'id': '9d1afafe85.jpg',\n",
              "   'url': 'http://images.media-allrecipes.com/userphotos/256x256/600523.jpg'},\n",
              "  {'id': '9e3fb7d180.jpg',\n",
              "   'url': 'http://images.media-allrecipes.com/userphotos/256x256/124025.jpg'},\n",
              "  {'id': '9e894dd2c4.jpg',\n",
              "   'url': 'http://images.media-allrecipes.com/userphotos/256x256/19775.jpg'},\n",
              "  {'id': '9f0a680439.jpg',\n",
              "   'url': 'http://images.media-allrecipes.com/userphotos/256x256/482281.jpg'},\n",
              "  {'id': '9f1d4005e8.jpg',\n",
              "   'url': 'http://images.media-allrecipes.com/userphotos/256x256/2070339.jpg'},\n",
              "  {'id': 'a20a1a7fcf.jpg',\n",
              "   'url': 'http://images.media-allrecipes.com/userphotos/256x256/622993.jpg'},\n",
              "  {'id': 'a3151ed23c.jpg',\n",
              "   'url': 'http://images.media-allrecipes.com/userphotos/256x256/137968.jpg'},\n",
              "  {'id': 'a3d0fd97af.jpg',\n",
              "   'url': 'http://images.media-allrecipes.com/userphotos/256x256/205599.jpg'},\n",
              "  {'id': 'a500846518.jpg',\n",
              "   'url': 'http://images.media-allrecipes.com/userphotos/256x256/2010632.jpg'},\n",
              "  {'id': 'a6a2c9d041.jpg',\n",
              "   'url': 'http://images.media-allrecipes.com/userphotos/256x256/1084625.jpg'},\n",
              "  {'id': 'a797f970b3.jpg',\n",
              "   'url': 'http://images.media-allrecipes.com/userphotos/256x256/203093.jpg'},\n",
              "  {'id': 'aaa30f9469.jpg',\n",
              "   'url': 'http://images.media-allrecipes.com/userphotos/256x256/220289.jpg'},\n",
              "  {'id': 'aaf76d1dd5.jpg',\n",
              "   'url': 'http://images.media-allrecipes.com/userphotos/256x256/78701.jpg'},\n",
              "  {'id': 'acfca81bb3.jpg',\n",
              "   'url': 'http://images.media-allrecipes.com/userphotos/256x256/31622.jpg'},\n",
              "  {'id': 'ae4b68fd64.jpg',\n",
              "   'url': 'http://images.media-allrecipes.com/userphotos/256x256/694717.jpg'},\n",
              "  {'id': 'b2db78f325.jpg',\n",
              "   'url': 'http://images.media-allrecipes.com/userphotos/256x256/68955.jpg'},\n",
              "  {'id': 'b2e2ce9a4f.jpg',\n",
              "   'url': 'http://images.media-allrecipes.com/userphotos/256x256/2279169.jpg'},\n",
              "  {'id': 'b3abcc8b41.jpg',\n",
              "   'url': 'http://images.media-allrecipes.com/userphotos/256x256/1436196.jpg'},\n",
              "  {'id': 'b708512512.jpg',\n",
              "   'url': 'http://images.media-allrecipes.com/userphotos/256x256/206200.jpg'},\n",
              "  {'id': 'b788a351ac.jpg',\n",
              "   'url': 'http://images.media-allrecipes.com/userphotos/256x256/250595.jpg'},\n",
              "  {'id': 'b7bf74ec44.jpg',\n",
              "   'url': 'http://images.media-allrecipes.com/userphotos/256x256/131727.jpg'},\n",
              "  {'id': 'b90207cf08.jpg',\n",
              "   'url': 'http://images.media-allrecipes.com/userphotos/256x256/194964.jpg'},\n",
              "  {'id': 'b910e87cb0.jpg',\n",
              "   'url': 'http://images.media-allrecipes.com/userphotos/256x256/1574814.jpg'},\n",
              "  {'id': 'bb54d6e4c3.jpg',\n",
              "   'url': 'http://images.media-allrecipes.com/userphotos/256x256/272697.jpg'},\n",
              "  {'id': 'bd73ebad74.jpg',\n",
              "   'url': 'http://images.media-allrecipes.com/userphotos/256x256/794880.jpg'},\n",
              "  {'id': 'bd9a5239bb.jpg',\n",
              "   'url': 'http://images.media-allrecipes.com/userphotos/256x256/346373.jpg'},\n",
              "  {'id': 'be09544e98.jpg',\n",
              "   'url': 'http://images.media-allrecipes.com/userphotos/256x256/19776.jpg'},\n",
              "  {'id': 'be281188bd.jpg',\n",
              "   'url': 'http://images.media-allrecipes.com/userphotos/256x256/2173406.jpg'},\n",
              "  {'id': 'bffe291c47.jpg',\n",
              "   'url': 'http://images.media-allrecipes.com/userphotos/256x256/4395.jpg'},\n",
              "  {'id': 'c011ac2d5f.jpg',\n",
              "   'url': 'http://images.media-allrecipes.com/userphotos/256x256/324235.jpg'},\n",
              "  {'id': 'c013245083.jpg',\n",
              "   'url': 'http://images.media-allrecipes.com/userphotos/256x256/5602.jpg'},\n",
              "  {'id': 'c016c4519a.jpg',\n",
              "   'url': 'http://images.media-allrecipes.com/userphotos/256x256/134197.jpg'},\n",
              "  {'id': 'c0db51cb9e.jpg',\n",
              "   'url': 'http://images.media-allrecipes.com/userphotos/256x256/626443.jpg'},\n",
              "  {'id': 'c1c38b2a3e.jpg',\n",
              "   'url': 'http://images.media-allrecipes.com/userphotos/256x256/915237.jpg'},\n",
              "  {'id': 'c40a3e9579.jpg',\n",
              "   'url': 'http://images.media-allrecipes.com/userphotos/256x256/1779869.jpg'},\n",
              "  {'id': 'c425335e96.jpg',\n",
              "   'url': 'http://images.media-allrecipes.com/userphotos/256x256/13737.jpg'},\n",
              "  {'id': 'c51c42c8b2.jpg',\n",
              "   'url': 'http://images.media-allrecipes.com/userphotos/256x256/350584.jpg'},\n",
              "  {'id': 'c556fd10da.jpg',\n",
              "   'url': 'http://images.media-allrecipes.com/userphotos/256x256/1976137.jpg'},\n",
              "  {'id': 'c5de23ab98.jpg',\n",
              "   'url': 'http://images.media-allrecipes.com/userphotos/256x256/215904.jpg'},\n",
              "  {'id': 'c63ee8b335.jpg',\n",
              "   'url': 'http://images.media-allrecipes.com/userphotos/256x256/62925.jpg'},\n",
              "  {'id': 'c6d8bf9d05.jpg',\n",
              "   'url': 'http://images.media-allrecipes.com/userphotos/256x256/772562.jpg'},\n",
              "  {'id': 'c85787a17b.jpg',\n",
              "   'url': 'http://images.media-allrecipes.com/userphotos/256x256/151482.jpg'},\n",
              "  {'id': 'c88c0a7136.jpg',\n",
              "   'url': 'http://images.media-allrecipes.com/userphotos/256x256/669624.jpg'},\n",
              "  {'id': 'c8eed7d2c1.jpg',\n",
              "   'url': 'http://images.media-allrecipes.com/userphotos/256x256/78130.jpg'},\n",
              "  {'id': 'ca1eb5ab6e.jpg',\n",
              "   'url': 'http://images.media-allrecipes.com/userphotos/256x256/1110593.jpg'},\n",
              "  {'id': 'cd5ec99fc7.jpg',\n",
              "   'url': 'http://images.media-allrecipes.com/userphotos/256x256/835203.jpg'},\n",
              "  {'id': 'cd8752cd3a.jpg',\n",
              "   'url': 'http://images.media-allrecipes.com/userphotos/256x256/2196551.jpg'},\n",
              "  {'id': 'ce1f0aa527.jpg',\n",
              "   'url': 'http://images.media-allrecipes.com/userphotos/256x256/196999.jpg'},\n",
              "  {'id': 'ce27a05855.jpg',\n",
              "   'url': 'http://images.media-allrecipes.com/userphotos/256x256/245201.jpg'},\n",
              "  {'id': 'cf2ecd36c5.jpg',\n",
              "   'url': 'http://images.media-allrecipes.com/userphotos/256x256/205916.jpg'},\n",
              "  {'id': 'd14db5a313.jpg',\n",
              "   'url': 'http://images.media-allrecipes.com/userphotos/256x256/716829.jpg'},\n",
              "  {'id': 'd2046e08ed.jpg',\n",
              "   'url': 'http://images.media-allrecipes.com/userphotos/256x256/1943486.jpg'},\n",
              "  {'id': 'd415da6008.jpg',\n",
              "   'url': 'http://images.media-allrecipes.com/userphotos/256x256/2294388.jpg'},\n",
              "  {'id': 'd4733fd58a.jpg',\n",
              "   'url': 'http://images.media-allrecipes.com/userphotos/256x256/6001.jpg'},\n",
              "  {'id': 'd5043db637.jpg',\n",
              "   'url': 'http://images.media-allrecipes.com/userphotos/256x256/2253754.jpg'},\n",
              "  {'id': 'd8e874fc48.jpg',\n",
              "   'url': 'http://images.media-allrecipes.com/userphotos/256x256/239477.jpg'},\n",
              "  {'id': 'd8fa8270e7.jpg',\n",
              "   'url': 'http://images.media-allrecipes.com/userphotos/256x256/2324627.jpg'},\n",
              "  {'id': 'd91af8a98f.jpg',\n",
              "   'url': 'http://images.media-allrecipes.com/userphotos/256x256/993824.jpg'},\n",
              "  {'id': 'd97722076d.jpg',\n",
              "   'url': 'http://images.media-allrecipes.com/userphotos/256x256/2224328.jpg'},\n",
              "  {'id': 'd99dc73cd0.jpg',\n",
              "   'url': 'http://images.media-allrecipes.com/userphotos/256x256/938301.jpg'},\n",
              "  {'id': 'da171ffc8b.jpg',\n",
              "   'url': 'http://images.media-allrecipes.com/userphotos/256x256/1383493.jpg'},\n",
              "  {'id': 'db0d36727f.jpg',\n",
              "   'url': 'http://images.media-allrecipes.com/userphotos/256x256/1127730.jpg'},\n",
              "  {'id': 'dfb7ce0769.jpg',\n",
              "   'url': 'http://images.media-allrecipes.com/userphotos/256x256/1244290.jpg'},\n",
              "  {'id': 'e2f44fd7c4.jpg',\n",
              "   'url': 'http://images.media-allrecipes.com/userphotos/256x256/328250.jpg'},\n",
              "  {'id': 'e3385b0b1a.jpg',\n",
              "   'url': 'http://images.media-allrecipes.com/userphotos/256x256/49750.jpg'},\n",
              "  {'id': 'e35dfbcef3.jpg',\n",
              "   'url': 'http://images.media-allrecipes.com/userphotos/256x256/240939.jpg'},\n",
              "  {'id': 'e375240099.jpg',\n",
              "   'url': 'http://images.media-allrecipes.com/userphotos/256x256/54847.jpg'},\n",
              "  {'id': 'e4ea853cb9.jpg',\n",
              "   'url': 'http://images.media-allrecipes.com/userphotos/256x256/1545020.jpg'},\n",
              "  {'id': 'e523c508d1.jpg',\n",
              "   'url': 'http://images.media-allrecipes.com/userphotos/256x256/160987.jpg'},\n",
              "  {'id': 'e5bbf0b783.jpg',\n",
              "   'url': 'http://images.media-allrecipes.com/userphotos/256x256/2341.jpg'},\n",
              "  {'id': 'e607c0d8b6.jpg',\n",
              "   'url': 'http://images.media-allrecipes.com/userphotos/256x256/1107009.jpg'},\n",
              "  {'id': 'e6873c0120.jpg',\n",
              "   'url': 'http://images.media-allrecipes.com/userphotos/256x256/1579975.jpg'},\n",
              "  {'id': 'e844463700.jpg',\n",
              "   'url': 'http://images.media-allrecipes.com/userphotos/256x256/182384.jpg'},\n",
              "  {'id': 'e9b3a6f696.jpg',\n",
              "   'url': 'http://images.media-allrecipes.com/userphotos/256x256/318109.jpg'},\n",
              "  {'id': 'e9d2bc2884.jpg',\n",
              "   'url': 'http://images.media-allrecipes.com/userphotos/256x256/42226.jpg'},\n",
              "  {'id': 'ea0f803ab4.jpg',\n",
              "   'url': 'http://images.media-allrecipes.com/userphotos/256x256/383430.jpg'},\n",
              "  {'id': 'eb09719f03.jpg',\n",
              "   'url': 'http://images.media-allrecipes.com/userphotos/256x256/1106378.jpg'},\n",
              "  {'id': 'ebf969ec63.jpg',\n",
              "   'url': 'http://images.media-allrecipes.com/userphotos/256x256/2569477.jpg'},\n",
              "  {'id': 'ecb970b3ad.jpg',\n",
              "   'url': 'http://images.media-allrecipes.com/userphotos/256x256/349473.jpg'},\n",
              "  {'id': 'ecd9189eab.jpg',\n",
              "   'url': 'http://images.media-allrecipes.com/userphotos/256x256/959765.jpg'},\n",
              "  {'id': 'ece9651985.jpg',\n",
              "   'url': 'http://images.media-allrecipes.com/userphotos/256x256/1075640.jpg'},\n",
              "  {'id': 'efa1b442c5.jpg',\n",
              "   'url': 'http://images.media-allrecipes.com/userphotos/256x256/887025.jpg'},\n",
              "  {'id': 'effbc99a20.jpg',\n",
              "   'url': 'http://images.media-allrecipes.com/userphotos/256x256/42056.jpg'},\n",
              "  {'id': 'f0d4a4b0ba.jpg',\n",
              "   'url': 'http://images.media-allrecipes.com/userphotos/256x256/1084624.jpg'},\n",
              "  {'id': 'f2184f5462.jpg',\n",
              "   'url': 'http://images.media-allrecipes.com/userphotos/256x256/865268.jpg'},\n",
              "  {'id': 'f24c9a6a77.jpg',\n",
              "   'url': 'http://images.media-allrecipes.com/userphotos/256x256/247435.jpg'},\n",
              "  {'id': 'f2c1e1dbb7.jpg',\n",
              "   'url': 'http://images.media-allrecipes.com/userphotos/256x256/176047.jpg'},\n",
              "  {'id': 'f2ed1c7870.jpg',\n",
              "   'url': 'http://images.media-allrecipes.com/userphotos/256x256/2576715.jpg'},\n",
              "  {'id': 'f4f9b1a914.jpg',\n",
              "   'url': 'http://images.media-allrecipes.com/userphotos/256x256/98936.jpg'},\n",
              "  {'id': 'f52f08d333.jpg',\n",
              "   'url': 'http://images.media-allrecipes.com/userphotos/256x256/623319.jpg'},\n",
              "  {'id': 'f6c6c23616.jpg',\n",
              "   'url': 'http://images.media-allrecipes.com/userphotos/256x256/44988.jpg'},\n",
              "  {'id': 'f7e3e49f77.jpg',\n",
              "   'url': 'http://images.media-allrecipes.com/userphotos/256x256/227230.jpg'},\n",
              "  {'id': 'fa11f2d6c3.jpg',\n",
              "   'url': 'http://images.media-allrecipes.com/userphotos/256x256/707268.jpg'},\n",
              "  {'id': 'fc61199910.jpg',\n",
              "   'url': 'http://images.media-allrecipes.com/userphotos/256x256/1567691.jpg'},\n",
              "  {'id': 'fc656610fd.jpg',\n",
              "   'url': 'http://images.media-allrecipes.com/userphotos/256x256/2556319.jpg'},\n",
              "  {'id': 'fc8804df85.jpg',\n",
              "   'url': 'http://images.media-allrecipes.com/userphotos/256x256/426597.jpg'},\n",
              "  {'id': 'fccec7397c.jpg',\n",
              "   'url': 'http://images.media-allrecipes.com/userphotos/256x256/2477397.jpg'},\n",
              "  {'id': 'fd1af693f7.jpg',\n",
              "   'url': 'http://images.media-allrecipes.com/userphotos/256x256/2555935.jpg'},\n",
              "  {'id': 'fd430331bb.jpg',\n",
              "   'url': 'http://images.media-allrecipes.com/userphotos/256x256/2306125.jpg'},\n",
              "  {'id': 'ffa04dc6ae.jpg',\n",
              "   'url': 'http://images.media-allrecipes.com/userphotos/256x256/52990.jpg'}],\n",
              " 'ingredients': [{'text': '1 cup butter, softened'},\n",
              "  {'text': '1 1/2 cups white sugar'},\n",
              "  {'text': '2 eggs'},\n",
              "  {'text': '2 teaspoons vanilla extract'},\n",
              "  {'text': '2 cups all-purpose flour'},\n",
              "  {'text': '2/3 cup cocoa powder'},\n",
              "  {'text': '3/4 teaspoon baking soda'},\n",
              "  {'text': '1/4 teaspoon salt'},\n",
              "  {'text': '2 cups semisweet chocolate chips'},\n",
              "  {'text': '1/2 cup chopped walnuts (optional)'}],\n",
              " 'title': 'Chocolate Chocolate Chip Cookies I'}"
            ]
          },
          "metadata": {
            "tags": []
          },
          "execution_count": 15
        }
      ]
    },
    {
      "cell_type": "code",
      "metadata": {
        "id": "FsDvIvP_9xTD"
      },
      "source": [
        "# Getting All Images\r\n",
        "\r\n",
        "'''\r\n",
        "right_images = []\r\n",
        "\r\n",
        "for elem in layer1_final:\r\n",
        "  for img in elem['images']:\r\n",
        "    right_images.append(img['id'])\r\n",
        "'''"
      ],
      "execution_count": null,
      "outputs": []
    },
    {
      "cell_type": "code",
      "metadata": {
        "id": "dSwBvD7a6uwc"
      },
      "source": [
        "# Export list images\r\n",
        "'''\r\n",
        "with open('right_images.txt', 'w') as f:\r\n",
        "    f.write(json.dumps(right_images))\r\n",
        "'''"
      ],
      "execution_count": null,
      "outputs": []
    },
    {
      "cell_type": "code",
      "metadata": {
        "colab": {
          "base_uri": "https://localhost:8080/"
        },
        "id": "7j6H0MCq6u0m",
        "outputId": "df4a22c4-f835-4e24-c83a-8764ec441278"
      },
      "source": [
        "len(right_images)"
      ],
      "execution_count": null,
      "outputs": [
        {
          "output_type": "execute_result",
          "data": {
            "text/plain": [
              "99999"
            ]
          },
          "metadata": {
            "tags": []
          },
          "execution_count": 18
        }
      ]
    },
    {
      "cell_type": "markdown",
      "metadata": {
        "id": "LqKqoxCNQk5s"
      },
      "source": [
        "#***Fixing dataset***\n"
      ]
    },
    {
      "cell_type": "code",
      "metadata": {
        "id": "2E7JcMU1QqlH"
      },
      "source": [
        "#Operazioni su train dataset\r\n",
        "\r\n",
        "'''\r\n",
        "path1 = \"C:\\\\Users\\\\gabri\\\\Desktop\\\\Aml Project\\\\datasets\\\\download\\\\recipe1M_images_train\\\\train\"\r\n",
        "dst = \"C:\\\\Users\\\\gabri\\\\Desktop\\\\Aml Project\\\\datasets\\\\download\\\\recipe1M_images_train\\\\right_train\"\r\n",
        "\r\n",
        "for root, dirs, files in os.walk(path1):\r\n",
        "    path = root.split(os.sep)\r\n",
        "    #print(os.path.basename(root))\r\n",
        "    for file in files:\r\n",
        "        if file not in right_images:\r\n",
        "            print(os.path.normpath(file))\r\n",
        "\r\n",
        "def copyfile(percorso):\r\n",
        "    scan = os.scandir(percorso)\r\n",
        "    \r\n",
        "    for x in scan:\r\n",
        "        if x.is_dir():\r\n",
        "            copyfile(x.path)\r\n",
        "        elif x.is_file():\r\n",
        "            if os.path.basename(x) in right_images:\r\n",
        "                shutil.copy(x.path, dst)\r\n",
        "            \r\n",
        "def delfile(percorso):\r\n",
        "    scan = os.scandir(percorso)\r\n",
        "    \r\n",
        "    for x in scan:\r\n",
        "        if x.is_dir():\r\n",
        "            delfile(x.path)\r\n",
        "        elif x.is_file():\r\n",
        "            if os.path.basename(x) not in right_images:\r\n",
        "                os.remove(x.path)\r\n",
        "'''"
      ],
      "execution_count": null,
      "outputs": []
    }
  ]
}