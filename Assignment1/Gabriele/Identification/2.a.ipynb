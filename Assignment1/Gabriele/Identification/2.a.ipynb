{
 "cells": [
  {
   "cell_type": "code",
   "execution_count": 1,
   "metadata": {},
   "outputs": [],
   "source": [
    "## Import packages \n",
    "\n",
    "import numpy as np\n",
    "from numpy import array\n",
    "from numpy import histogram as hist\n",
    "import matplotlib.pyplot as plt\n",
    "from PIL import Image"
   ]
  },
  {
   "cell_type": "code",
   "execution_count": 2,
   "metadata": {},
   "outputs": [],
   "source": [
    "def rgb2gray(rgb):\n",
    "\n",
    "    r, g, b = rgb[:,:,0], rgb[:,:,1], rgb[:,:,2]\n",
    "    gray = 0.2989 * r + 0.5870 * g + 0.1140 * b\n",
    "\n",
    "    return gray"
   ]
  },
  {
   "cell_type": "code",
   "execution_count": 3,
   "metadata": {},
   "outputs": [],
   "source": [
    "def arr2list(img):\n",
    "    \n",
    "    list_img = []\n",
    "    for x in array(img).flat:\n",
    "        list_img.append(x)\n",
    "        \n",
    "    return sorted(list_img)"
   ]
  },
  {
   "cell_type": "code",
   "execution_count": 4,
   "metadata": {},
   "outputs": [],
   "source": [
    "## x is list of numbers\n",
    "## num_bins is the number of edges we want in the histogram\n",
    "\n",
    "def edge_bins(x, num_bins):\n",
    "    \n",
    "    step = (max(x) - min(x))/num_bins\n",
    "    arr2 = np.zeros(num_bins + 1)\n",
    "    \n",
    "    for i in range(num_bins):\n",
    "    \n",
    "        if num_bins == 1:\n",
    "            arr2 = [float(min(x)), float(max(x))]\n",
    "        else:\n",
    "            arr2[0] = float(min(x))\n",
    "            if int(i) != (num_bins - 1):\n",
    "                arr2[i+1] = arr2[i] + float(step)\n",
    "            else:\n",
    "                arr2[-1] = float(max(x))\n",
    "            \n",
    "    return arr2"
   ]
  },
  {
   "cell_type": "code",
   "execution_count": 5,
   "metadata": {},
   "outputs": [
    {
     "data": {
      "text/plain": [
       "array([[49.4267, 46.9187, 24.9975, ..., 24.9975, 24.9975, 24.9975],\n",
       "       [24.9975, 24.9975, 24.9975, ..., 24.9975, 24.9975, 24.9975],\n",
       "       [24.9975, 24.9975, 24.9975, ..., 24.9975, 24.9975, 24.9975],\n",
       "       ...,\n",
       "       [24.9975, 24.9975, 24.9975, ..., 24.9975, 24.9975, 24.9975],\n",
       "       [24.9975, 24.9975, 24.9975, ..., 24.9975, 24.9975, 24.9975],\n",
       "       [24.9975, 24.9975, 24.9975, ..., 24.9975, 24.9975, 24.9975]])"
      ]
     },
     "execution_count": 5,
     "metadata": {},
     "output_type": "execute_result"
    }
   ],
   "source": [
    "# Read image gray\n",
    "img_gray = rgb2gray(np.array(Image.open('obj1__0.png')))\n",
    "img_gray"
   ]
  },
  {
   "cell_type": "code",
   "execution_count": 6,
   "metadata": {},
   "outputs": [],
   "source": [
    "#  compute histogram of image intensities, histogram should be normalized so that sum of all values equals 1\n",
    "#  assume that image intensity varies between 0 and 255\n",
    "#\n",
    "#  img_gray - input image in grayscale format\n",
    "#  num_bins - number of bins in the histogram\n",
    "\n",
    "def normalized_hist(img_gray, num_bins):\n",
    "    assert len(img_gray.shape) == 2, 'image dimension mismatch'\n",
    "    assert img_gray.dtype == 'float', 'incorrect image type'\n",
    "    \n",
    "    img_gray2 = img_gray/img_gray.sum() ## Normalizing between 0 and 1\n",
    "    \n",
    "    x = arr2list(img_gray2)\n",
    "    y = edge_bins(x, num_bins)\n",
    "    z = np.split(x,np.searchsorted(x,y))\n",
    "\n",
    "    final1 = []\n",
    "\n",
    "    for i in range(len(z)):\n",
    "        final1.append(len(z[i]))\n",
    "    \n",
    "    hists = final1[1::]\n",
    "    bins = edge_bins(x, num_bins)\n",
    "    \n",
    "    ax = plt.hist(img_gray2.ravel(), num_bins)\n",
    "    plt.show()\n",
    "    \n",
    "    return hists, bins"
   ]
  },
  {
   "cell_type": "markdown",
   "metadata": {},
   "source": [
    "### Comparing the built-in histogram function with our own function"
   ]
  },
  {
   "cell_type": "code",
   "execution_count": 7,
   "metadata": {},
   "outputs": [
    {
     "data": {
      "text/plain": [
       "(array([10814,   130,   139,   674,  1372,   935,   644,   814,   855,\n",
       "            7], dtype=int64),\n",
       " array([ 14.4949,  33.6602,  52.8255,  71.9908,  91.1561, 110.3214,\n",
       "        129.4867, 148.652 , 167.8173, 186.9826, 206.1479]))"
      ]
     },
     "execution_count": 7,
     "metadata": {},
     "output_type": "execute_result"
    }
   ],
   "source": [
    "## Built-in\n",
    "\n",
    "np.histogram(img_gray, 10)"
   ]
  },
  {
   "cell_type": "code",
   "execution_count": 8,
   "metadata": {},
   "outputs": [
    {
     "data": {
      "image/png": "[encoded data removed]",
      "text/plain": [
       "<Figure size 432x288 with 1 Axes>"
      ]
     },
     "metadata": {
      "needs_background": "light"
     },
     "output_type": "display_data"
    },
    {
     "data": {
      "text/plain": [
       "([10814, 130, 139, 674, 1372, 935, 644, 814, 855, 6, 1],\n",
       " array([1.50911532e-05, 3.50448250e-05, 5.49984969e-05, 7.49521687e-05,\n",
       "        9.49058405e-05, 1.14859512e-04, 1.34813184e-04, 1.54766856e-04,\n",
       "        1.74720528e-04, 1.94674200e-04, 2.14627872e-04]))"
      ]
     },
     "execution_count": 8,
     "metadata": {},
     "output_type": "execute_result"
    }
   ],
   "source": [
    "## Our own normalized\n",
    "\n",
    "normalized_hist(img_gray, 10)"
   ]
  },
  {
   "cell_type": "code",
   "execution_count": null,
   "metadata": {},
   "outputs": [],
   "source": []
  },
  {
   "cell_type": "code",
   "execution_count": null,
   "metadata": {},
   "outputs": [],
   "source": []
  },
  {
   "cell_type": "markdown",
   "metadata": {},
   "source": [
    "### EX 2.B"
   ]
  },
  {
   "cell_type": "code",
   "execution_count": null,
   "metadata": {},
   "outputs": [],
   "source": []
  },
  {
   "cell_type": "code",
   "execution_count": null,
   "metadata": {},
   "outputs": [],
   "source": []
  },
  {
   "cell_type": "code",
   "execution_count": null,
   "metadata": {},
   "outputs": [],
   "source": []
  },
  {
   "cell_type": "code",
   "execution_count": null,
   "metadata": {},
   "outputs": [],
   "source": [
    "\n"
   ]
  }
 ],
 "metadata": {
  "kernelspec": {
   "display_name": "Python 3",
   "language": "python",
   "name": "python3"
  },
  "language_info": {
   "codemirror_mode": {
    "name": "ipython",
    "version": 3
   },
   "file_extension": ".py",
   "mimetype": "text/x-python",
   "name": "python",
   "nbconvert_exporter": "python",
   "pygments_lexer": "ipython3",
   "version": "3.7.4"
  }
 },
 "nbformat": 4,
 "nbformat_minor": 4
}
