{
 "cells": [
  {
   "cell_type": "code",
   "execution_count": 1,
   "metadata": {},
   "outputs": [],
   "source": [
    "## Import packages \n",
    "\n",
    "import numpy as np\n",
    "from numpy import histogram as hist\n",
    "import matplotlib.pyplot as plt\n",
    "from PIL import Image"
   ]
  },
  {
   "cell_type": "code",
   "execution_count": 2,
   "metadata": {},
   "outputs": [],
   "source": [
    "def rgb2gray(rgb):\n",
    "\n",
    "    r, g, b = rgb[:,:,0], rgb[:,:,1], rgb[:,:,2]\n",
    "    gray = 0.2989 * r + 0.5870 * g + 0.1140 * b\n",
    "\n",
    "    return gray"
   ]
  },
  {
   "cell_type": "code",
   "execution_count": 3,
   "metadata": {},
   "outputs": [
    {
     "data": {
      "text/plain": [
       "array([[49.4267, 46.9187, 24.9975, ..., 24.9975, 24.9975, 24.9975],\n",
       "       [24.9975, 24.9975, 24.9975, ..., 24.9975, 24.9975, 24.9975],\n",
       "       [24.9975, 24.9975, 24.9975, ..., 24.9975, 24.9975, 24.9975],\n",
       "       ...,\n",
       "       [24.9975, 24.9975, 24.9975, ..., 24.9975, 24.9975, 24.9975],\n",
       "       [24.9975, 24.9975, 24.9975, ..., 24.9975, 24.9975, 24.9975],\n",
       "       [24.9975, 24.9975, 24.9975, ..., 24.9975, 24.9975, 24.9975]])"
      ]
     },
     "execution_count": 3,
     "metadata": {},
     "output_type": "execute_result"
    }
   ],
   "source": [
    "# Read image gray\n",
    "img_gray = rgb2gray(np.array(Image.open('obj1__0.png')))\n",
    "img_gray"
   ]
  },
  {
   "cell_type": "code",
   "execution_count": 4,
   "metadata": {},
   "outputs": [],
   "source": [
    "#  compute histogram of image intensities, histogram should be normalized so that sum of all values equals 1\n",
    "#  assume that image intensity varies between 0 and 255\n",
    "#\n",
    "#  img_gray - input image in grayscale format\n",
    "#  num_bins - number of bins in the histogram\n",
    "\n",
    "def normalized_hist(img_gray, num_bins):\n",
    "    assert len(img_gray.shape) == 2, 'image dimension mismatch'\n",
    "    assert img_gray.dtype == 'float', 'incorrect image type'\n",
    "\n",
    "    img_gray2 = img_gray/img_gray.sum()\n",
    "    ax = plt.hist(img_gray2.ravel(), num_bins)\n",
    "    hists = plt.show()\n",
    "    bins = print(\"Number of bins equal to: \", num_bins)\n",
    "\n",
    "    return hists, bins"
   ]
  },
  {
   "cell_type": "code",
   "execution_count": null,
   "metadata": {},
   "outputs": [],
   "source": []
  },
  {
   "cell_type": "code",
   "execution_count": 5,
   "metadata": {},
   "outputs": [
    {
     "data": {
      "image/png": "[encoded data removed]",
      "text/plain": [
       "<Figure size 432x288 with 1 Axes>"
      ]
     },
     "metadata": {
      "needs_background": "light"
     },
     "output_type": "display_data"
    },
    {
     "name": "stdout",
     "output_type": "stream",
     "text": [
      "Number of bins equal to:  56\n"
     ]
    },
    {
     "data": {
      "text/plain": [
       "(None, None)"
      ]
     },
     "execution_count": 5,
     "metadata": {},
     "output_type": "execute_result"
    }
   ],
   "source": [
    "normalized_hist(img_gray, 56)"
   ]
  },
  {
   "cell_type": "code",
   "execution_count": null,
   "metadata": {},
   "outputs": [],
   "source": []
  },
  {
   "cell_type": "code",
   "execution_count": null,
   "metadata": {},
   "outputs": [],
   "source": []
  }
 ],
 "metadata": {
  "kernelspec": {
   "display_name": "Python 3",
   "language": "python",
   "name": "python3"
  },
  "language_info": {
   "codemirror_mode": {
    "name": "ipython",
    "version": 3
   },
   "file_extension": ".py",
   "mimetype": "text/x-python",
   "name": "python",
   "nbconvert_exporter": "python",
   "pygments_lexer": "ipython3",
   "version": "3.7.4"
  }
 },
 "nbformat": 4,
 "nbformat_minor": 4
}
